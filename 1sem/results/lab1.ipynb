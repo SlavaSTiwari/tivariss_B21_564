{
 "cells": [
  {
   "cell_type": "code",
   "execution_count": 58,
   "metadata": {},
   "outputs": [],
   "source": [
    "import numpy as np\n",
    "from PIL import Image as pim"
   ]
  },
  {
   "cell_type": "markdown",
   "metadata": {},
   "source": [
    "## 1. Растяжение (интерполяция) изображения в M раз"
   ]
  },
  {
   "cell_type": "code",
   "execution_count": 59,
   "metadata": {},
   "outputs": [],
   "source": [
    "def stretching(input_array, scale):\n",
    "\n",
    "  H, W = input_array.shape[:2]\n",
    "\n",
    "  output_H = H * scale\n",
    "  output_W = W * scale\n",
    "\n",
    "  output_array = np.zeros((output_H, output_W, input_array.shape[2]), dtype=input_array.dtype)\n",
    "\n",
    "  for y in range(output_H):\n",
    "    for x in range(output_W):\n",
    "        orig_y = y // scale\n",
    "        orig_x = x // scale\n",
    "        output_array[y, x] = input_array[orig_y, orig_x]\n",
    "\n",
    "  output_image = pim.fromarray(output_array)\n",
    "\n",
    "  output_image.save('output/1_kotik_stretched.png')\n",
    "  output_image.show()\n"
   ]
  },
  {
   "cell_type": "markdown",
   "metadata": {},
   "source": [
    "## 2. Сжатие (децимация) изображения в N раз"
   ]
  },
  {
   "cell_type": "code",
   "execution_count": 60,
   "metadata": {},
   "outputs": [],
   "source": [
    "def compressing(input_array, scale):\n",
    "\n",
    "  H, W = input_array.shape[:2]\n",
    "  output_H = H // scale\n",
    "  output_W = W // scale\n",
    "\n",
    "  output_array = np.zeros((output_H, output_W, input_array.shape[2]), dtype=input_array.dtype)\n",
    "\n",
    "  for y in range(output_H):\n",
    "    for x in range(output_W):\n",
    "        orig_y = y * scale\n",
    "        orig_x = x * scale\n",
    "        output_array[y, x] = input_array[orig_y, orig_x]\n",
    "\n",
    "  output_image = pim.fromarray(output_array)\n",
    "\n",
    "  output_image.save('output/1_kotik_compressed.png')\n",
    "  output_image.show()"
   ]
  },
  {
   "cell_type": "markdown",
   "metadata": {},
   "source": [
    "## 3. Передискретизация изображения в K=M/N раз путём растяжения и последующего сжатия (в два прохода)\n"
   ]
  },
  {
   "cell_type": "code",
   "execution_count": 61,
   "metadata": {},
   "outputs": [],
   "source": [
    "def two_step_resampling(input_array, M, N):\n",
    "    # Stretching\n",
    "    H, W = input_array.shape[:2]\n",
    "    buffer_H = H * M\n",
    "    buffer_W = W * M\n",
    "\n",
    "    buffer_array = np.zeros((buffer_H, buffer_W, input_array.shape[2]), dtype=input_array.dtype)\n",
    "\n",
    "    for y in range(buffer_H):\n",
    "        for x in range(buffer_W):\n",
    "            orig_y = y // M\n",
    "            orig_x = x // M\n",
    "            buffer_array[y, x] = input_array[orig_y, orig_x]\n",
    "\n",
    "    # Compressing\n",
    "    H, W = buffer_array.shape[:2]\n",
    "    output_H = H // N\n",
    "    output_W = W // N\n",
    "\n",
    "    output_array = np.zeros((output_H, output_W, buffer_array.shape[2]), dtype=buffer_array.dtype)\n",
    "\n",
    "    for y in range(output_H):\n",
    "        for x in range(output_W):\n",
    "            orig_y = y * N\n",
    "            orig_x = x * N\n",
    "            output_array[y, x] = buffer_array[orig_y, orig_x]\n",
    "\n",
    "    output_image = pim.fromarray(output_array)\n",
    "\n",
    "    output_image.save('output/1_kotik_two_step.png')\n",
    "    output_image.show()"
   ]
  },
  {
   "cell_type": "markdown",
   "metadata": {},
   "source": [
    "## 4. Передискретизация изображения в K раз за один проход."
   ]
  },
  {
   "cell_type": "code",
   "execution_count": 62,
   "metadata": {},
   "outputs": [],
   "source": [
    "def one_step_resampling(input_array, M, N):\n",
    "    H, W = input_array.shape[:2]\n",
    "    output_H = H  * M // N\n",
    "    output_W = W * M // N\n",
    "\n",
    "    output_array = np.zeros((output_H, output_W, input_array.shape[2]), dtype=input_array.dtype)\n",
    "\n",
    "    for y in range(output_H):\n",
    "        for x in range(output_W):\n",
    "            orig_y = y  * N // M\n",
    "            orig_x = x * N // M\n",
    "            output_array[y, x] = input_array[orig_y, orig_x]\n",
    "\n",
    "    output_image = pim.fromarray(output_array)\n",
    "\n",
    "    output_image.save('output/1_kotik_one_step.png')\n",
    "    output_image.show()"
   ]
  },
  {
   "cell_type": "code",
   "execution_count": 63,
   "metadata": {},
   "outputs": [],
   "source": [
    "\n",
    "def main():\n",
    "    input_image = pim.open('input/kotik.png').convert('RGB')   #'kotik' was turning out as a 2D array since it was interpretted without colour values\n",
    "    input_array = np.array(input_image)\n",
    "    stretching(input_array, 4)\n",
    "\n",
    "    compressing(input_array, 3)\n",
    "\n",
    "    two_step_resampling(input_array, 5, 2)\n",
    "\n",
    "    one_step_resampling(input_array, 5, 2)\n",
    "\n",
    "if __name__ == \"__main__\":\n",
    "    main()"
   ]
  }
 ],
 "metadata": {
  "kernelspec": {
   "display_name": "base",
   "language": "python",
   "name": "python3"
  },
  "language_info": {
   "codemirror_mode": {
    "name": "ipython",
    "version": 3
   },
   "file_extension": ".py",
   "mimetype": "text/x-python",
   "name": "python",
   "nbconvert_exporter": "python",
   "pygments_lexer": "ipython3",
   "version": "3.11.5"
  }
 },
 "nbformat": 4,
 "nbformat_minor": 2
}
