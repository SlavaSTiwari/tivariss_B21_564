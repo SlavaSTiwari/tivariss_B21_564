{
 "cells": [
  {
   "cell_type": "markdown",
   "metadata": {},
   "source": [
    "# Lab 6: Сегментация текста \n",
    "\n",
    "### Phrase: еңбек етсең ерінбей, тояды қарның тіленбей\n",
    "[ if you work hard and won't be lazy, you won't need to eat snow ]\n",
    "[ Если будешь усердно работать, то не нужно будет есть снег ]"
   ]
  },
  {
   "cell_type": "code",
   "execution_count": 29,
   "metadata": {},
   "outputs": [],
   "source": [
    "import os\n",
    "import numpy as np\n",
    "from PIL import Image, ImageOps, ImageDraw, ImageFont\n",
    "import matplotlib.pyplot as plt"
   ]
  },
  {
   "cell_type": "code",
   "execution_count": 30,
   "metadata": {},
   "outputs": [],
   "source": [
    "def generate_phrase_profile(img: np.array):\n",
    "    img_b = img != 255\n",
    "\n",
    "    horizontal_profile = np.sum(img_b, axis=0)\n",
    "    plt.bar(\n",
    "        x=np.arange(start=1, stop=img_b.shape[1] + 1).astype(int),\n",
    "        height=horizontal_profile,\n",
    "        width=0.9\n",
    "    )\n",
    "    plt.savefig(\"output/\" + \"profile/\" + \"horizontal_profile.png\")\n",
    "    plt.clf()\n",
    "\n",
    "    vertical_profile = np.sum(img_b, axis=1)\n",
    "    plt.barh(\n",
    "        y=np.arange(start=1, stop=img_b.shape[0] + 1).astype(int),\n",
    "        width=vertical_profile,\n",
    "        height=0.9\n",
    "    )\n",
    "    plt.savefig(\"output/\" + \"profile/\" + \"vertical_profile.png\")\n",
    "    plt.clf()"
   ]
  },
  {
   "cell_type": "code",
   "execution_count": 31,
   "metadata": {},
   "outputs": [],
   "source": [
    "def simple_binarization(img, threshold):\n",
    "    binarized_img = np.zeros_like(img)\n",
    "    binarized_img[img > threshold] = 255\n",
    "    \n",
    "    return binarized_img.astype(np.uint8)"
   ]
  },
  {
   "cell_type": "code",
   "execution_count": 32,
   "metadata": {},
   "outputs": [],
   "source": [
    "def generate_phrase_image(input_phrase, phrase_font, threshold):\n",
    "    space_len = 5\n",
    "    phrase_width = 0\n",
    "    max_height = 0\n",
    "\n",
    "    for char in input_phrase:\n",
    "        mask = phrase_font.getmask(char)\n",
    "        if mask:\n",
    "            width = mask.getbbox()[2]\n",
    "            height = mask.getbbox()[3]\n",
    "            phrase_width += width\n",
    "            if height > max_height:\n",
    "                max_height = height\n",
    "\n",
    "    phrase_width += space_len * (len(input_phrase) - 1)\n",
    "\n",
    "    img = Image.new(\"L\", (phrase_width, max_height + 40), color=\"white\")\n",
    "    draw = ImageDraw.Draw(img)\n",
    "\n",
    "    current_x = 0\n",
    "    baseline = 0\n",
    "    for char in input_phrase:\n",
    "        mask = phrase_font.getmask(char)\n",
    "        if mask:\n",
    "            width = mask.getbbox()[2]\n",
    "            height = mask.getbbox()[3]\n",
    "            draw.text((current_x, baseline - height + 30), char, \"black\", font=phrase_font)\n",
    "            current_x += width + space_len\n",
    "\n",
    "    img = Image.fromarray(simple_binarization(np.array(img), threshold))\n",
    "    img.save(\"output/original_phrase.bmp\")\n",
    "\n",
    "    np_img = np.array(img)\n",
    "    generate_phrase_profile(np_img)\n",
    "    ImageOps.invert(img).save(\"output/inverted_phrase.bmp\")\n",
    "    return np_img"
   ]
  },
  {
   "cell_type": "code",
   "execution_count": 33,
   "metadata": {},
   "outputs": [],
   "source": [
    "def segment_phrase(input_image):\n",
    "    profile = np.sum(input_image == 0, axis=0)\n",
    "    boundries = []\n",
    "\n",
    "    in_letter = False\n",
    "    for i, count in enumerate(profile):\n",
    "        if count > 0:\n",
    "            if not in_letter:\n",
    "                start = i\n",
    "                in_letter = True\n",
    "        else:\n",
    "            if in_letter:\n",
    "                end = i\n",
    "                in_letter = False\n",
    "                boundries.append((start - 1, end))\n",
    "\n",
    "    if in_letter:\n",
    "        boundries.append((start, len(profile)))\n",
    "\n",
    "    return boundries"
   ]
  },
  {
   "cell_type": "code",
   "execution_count": 34,
   "metadata": {},
   "outputs": [],
   "source": [
    "def create_boxes(img, bounds):\n",
    "    image = Image.fromarray(img)\n",
    "    draw = ImageDraw.Draw(image)\n",
    "\n",
    "    for start, end in bounds:\n",
    "        left, right = start, end\n",
    "        top, bottom = 0, img.shape[0]\n",
    "        draw.rectangle([left, top, right, bottom], outline=\"red\", width=2)\n",
    "\n",
    "    image.save(\"output/\" + \"segmented_phrase.bmp\")"
   ]
  },
  {
   "cell_type": "code",
   "execution_count": 35,
   "metadata": {},
   "outputs": [
    {
     "data": {
      "text/plain": [
       "<Figure size 640x480 with 0 Axes>"
      ]
     },
     "metadata": {},
     "output_type": "display_data"
    }
   ],
   "source": [
    "def main():\n",
    "    original_phrase = \"еңбек етсең ерінбей, тояды қарның тіленбей\"\n",
    "    font_size = 52\n",
    "\n",
    "    font = ImageFont.truetype(\"Times New Roman.ttf\", font_size)\n",
    "\n",
    "    if not os.path.exists(\"output\"):\n",
    "        os.makedirs(\"output\")\n",
    "\n",
    "    generated_img = generate_phrase_image(original_phrase, font, 75)\n",
    "    letter_bounds = segment_phrase(generated_img)\n",
    "    create_boxes(generated_img, letter_bounds)\n",
    "\n",
    "if __name__ == \"__main__\":\n",
    "    main()"
   ]
  },
  {
   "cell_type": "code",
   "execution_count": null,
   "metadata": {},
   "outputs": [],
   "source": []
  }
 ],
 "metadata": {
  "kernelspec": {
   "display_name": "base",
   "language": "python",
   "name": "python3"
  },
  "language_info": {
   "codemirror_mode": {
    "name": "ipython",
    "version": 3
   },
   "file_extension": ".py",
   "mimetype": "text/x-python",
   "name": "python",
   "nbconvert_exporter": "python",
   "pygments_lexer": "ipython3",
   "version": "3.11.5"
  }
 },
 "nbformat": 4,
 "nbformat_minor": 2
}
