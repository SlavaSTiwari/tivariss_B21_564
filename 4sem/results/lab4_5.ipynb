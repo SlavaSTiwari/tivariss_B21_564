{
 "cells": [
  {
   "cell_type": "markdown",
   "metadata": {},
   "source": [
    "# 4.5 Выделение контуров на изображении\n",
    "### Оператор Шарра\n"
   ]
  },
  {
   "cell_type": "code",
   "execution_count": 1,
   "metadata": {},
   "outputs": [],
   "source": [
    "import os\n",
    "import numpy as np\n",
    "from scipy.signal import convolve2d\n",
    "from PIL import Image as pim\n",
    "\n",
    "opp_Gx = np.array([[3, 0, -3],\n",
    "                [10, 0, -10],\n",
    "                [3, 0, -3]])\n",
    "\n",
    "opp_Gy = np.array([[3, 10, 3],\n",
    "                [0, 0, 0],\n",
    "                [-3, -10, -3]])\n",
    "\n",
    "BLACK = 0\n",
    "WHITE = 255"
   ]
  },
  {
   "cell_type": "code",
   "execution_count": 9,
   "metadata": {},
   "outputs": [],
   "source": [
    "def sharr_function(input_path, output_path):\n",
    "\n",
    "    #1\n",
    "    input_image = pim.open(input_path).convert('RGB')\n",
    "    input_array = np.array(input_image)\n",
    "\n",
    "    H, W = input_array.shape[:2]\n",
    "    \n",
    "    #2\n",
    "    semitone_array = np.zeros((H, W), dtype=np.uint8)\n",
    "\n",
    "    for y in range(H):\n",
    "        for x in range(W):\n",
    "            semitone_array[y, x] = np.mean(input_array[y, x])\n",
    "\n",
    "    #3: AFTER SEMITONE OF INPUT IMAGE:\n",
    "    Gx = convolve2d(semitone_array, opp_Gx, mode='same')\n",
    "    Gy = convolve2d(semitone_array, opp_Gy, mode='same')\n",
    "    G = np.sqrt(Gx**2 + Gy**2)                             # Gradient Formula\n",
    "\n",
    "    G_max = np.max((np.max(Gx), np.max(Gy), np.max(G)))\n",
    "    G = G * WHITE / G_max\n",
    "    Gx = Gx * WHITE / G_max\n",
    "    Gy = Gy * WHITE / G_max\n",
    "\n",
    "    G_path = output_path + '/' + 'G_' + os.path.basename(input_path)\n",
    "    pim.fromarray(Gx.astype(np.uint8), mode='L').save(output_path + '/' + 'Gx_' + os.path.basename(input_path))\n",
    "    pim.fromarray(Gy.astype(np.uint8), mode='L').save(output_path + '/' + 'Gy_' + os.path.basename(input_path))\n",
    "    pim.fromarray(G.astype(np.uint8), mode='L').save(G_path)\n",
    "    return G_path\n"
   ]
  },
  {
   "cell_type": "code",
   "execution_count": 1,
   "metadata": {},
   "outputs": [],
   "source": [
    "#4\n",
    "def binarize(input_path, output_path, threshold):\n",
    "    input_image = pim.open(input_path)    \n",
    "    input_array = np.array(input_image)\n",
    "    pim.fromarray(np.where(input_array < threshold, BLACK, WHITE).astype(np.uint8), mode='L').save(output_path)"
   ]
  },
  {
   "cell_type": "code",
   "execution_count": 12,
   "metadata": {},
   "outputs": [],
   "source": [
    "def main():\n",
    "    images = [\"im1.png\", \"im2.png\", \"im3.png\"]\n",
    "\n",
    "    for image in images:\n",
    "        output_path = \"output/\" + image\n",
    "        if not os.path.exists(output_path):\n",
    "            os.makedirs(output_path)\n",
    "\n",
    "        G_path = sharr_function('input/' + image, output_path)\n",
    "        binarize(G_path, output_path + '/' + \"bin_\" + os.path.basename(G_path), 27)\n",
    "\n",
    "if __name__ == \"__main__\":\n",
    "    main()"
   ]
  },
  {
   "cell_type": "code",
   "execution_count": null,
   "metadata": {},
   "outputs": [],
   "source": []
  }
 ],
 "metadata": {
  "kernelspec": {
   "display_name": "base",
   "language": "python",
   "name": "python3"
  },
  "language_info": {
   "codemirror_mode": {
    "name": "ipython",
    "version": 3
   },
   "file_extension": ".py",
   "mimetype": "text/x-python",
   "name": "python",
   "nbconvert_exporter": "python",
   "pygments_lexer": "ipython3",
   "version": "3.11.5"
  }
 },
 "nbformat": 4,
 "nbformat_minor": 2
}
