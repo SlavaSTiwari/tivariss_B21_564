{
 "cells": [
  {
   "cell_type": "markdown",
   "metadata": {},
   "source": [
    "## Lab 8: Текстурный анализ и контрастирование\n",
    "### Вариант 7"
   ]
  },
  {
   "cell_type": "code",
   "execution_count": 28,
   "metadata": {},
   "outputs": [],
   "source": [
    "import os\n",
    "import matplotlib.pyplot as plt\n",
    "import numpy as np\n",
    "import pandas as pd\n",
    "from PIL import Image as pim, ImageDraw\n",
    "from tqdm import tqdm\n",
    "\n",
    "# PARAMETERS\n",
    "WHITE = 255\n",
    "D = 2\n",
    "PHI = [angle / 180 * np.pi for angle in [0, 90, 180, 270]]\n"
   ]
  },
  {
   "cell_type": "code",
   "execution_count": 29,
   "metadata": {},
   "outputs": [],
   "source": [
    "def analyze_adjacent_pixels(input_image, pix, pos):\n",
    "    output = np.zeros(WHITE + 1)\n",
    "    base_x, base_y = pos\n",
    "    for angle in PHI:\n",
    "        x = base_x + np.around(np.cos(angle)) * D\n",
    "        y = base_y + np.around(np.sin(angle)) * D\n",
    "        if 0 <= x < input_image.size[0] and 0 <= y < input_image.size[1]:\n",
    "            val = pix[x, y]\n",
    "            output[val] += 1\n",
    "            \n",
    "    return pix[base_x, base_y], output"
   ]
  },
  {
   "cell_type": "code",
   "execution_count": 30,
   "metadata": {},
   "outputs": [],
   "source": [
    "def pixel_gen(input_image, func=lambda input_image, pix, x: pix[x]):\n",
    "    pix = input_image.load()\n",
    "    for row in range(input_image.size[1]):\n",
    "        for col in range(input_image.size[0]):\n",
    "            pos = (col, row)\n",
    "            yield pos, func(input_image, pix, pos)"
   ]
  },
  {
   "cell_type": "code",
   "execution_count": 31,
   "metadata": {},
   "outputs": [],
   "source": [
    "def create_histogram(hist, img_name):\n",
    "    f = plt.figure()\n",
    "    plt.bar(np.arange(hist.size), hist)\n",
    "    plt.savefig(f\"{img_name}_bar.png\")\n",
    "    plt.close(f)"
   ]
  },
  {
   "cell_type": "code",
   "execution_count": 32,
   "metadata": {},
   "outputs": [],
   "source": [
    "def calc_params(h_image, filename):\n",
    "    res_s = pd.Series({\"con\": 0, \"lun\": 0})\n",
    "    for (i, j), p in tqdm(pixel_gen(h_image), total=h_image.size[0] * h_image.size[1]):\n",
    "        tmp = (i - j) ** 2\n",
    "        res_s[\"con\"] += tmp * p\n",
    "        res_s[\"lun\"] += p / (1 + tmp)\n",
    "    res_s.to_csv(f\"{filename}.csv\")"
   ]
  },
  {
   "cell_type": "code",
   "execution_count": 37,
   "metadata": {},
   "outputs": [],
   "source": [
    "def create_haralic_matrix_and_stats(name, mono_image):\n",
    "    result = np.zeros((WHITE + 1, WHITE + 1))\n",
    "    hist = np.zeros(WHITE + 1)\n",
    "    max_max = 0\n",
    "    total_pixels = mono_image.size[0] * mono_image.size[1]\n",
    "    for pos, (val, row) in tqdm(pixel_gen(mono_image, func=analyze_adjacent_pixels), total=total_pixels):\n",
    "        result[val] += row\n",
    "        max_max = max(max_max, max(row))\n",
    "        hist[val] += 1\n",
    "    result_image = pim.fromarray(np.uint8(result * WHITE / max_max))\n",
    "    result_image.save(f\"{name}_matrix.png\", \"PNG\")\n",
    "\n",
    "    create_histogram(hist, name)\n",
    "    calc_params(result_image, name)"
   ]
  },
  {
   "cell_type": "code",
   "execution_count": 34,
   "metadata": {},
   "outputs": [],
   "source": [
    "def transform(image, c=1, f0=0, y=0.5):\n",
    "    result_image = image.copy()\n",
    "    d = ImageDraw.Draw(result_image)\n",
    "    for pos, pixel in pixel_gen(image):\n",
    "        p = min(int(WHITE * c * (pixel / WHITE + f0) ** y), WHITE)\n",
    "        d.point(pos, p)\n",
    "        \n",
    "    return result_image"
   ]
  },
  {
   "cell_type": "markdown",
   "metadata": {},
   "source": [
    "#### Main"
   ]
  },
  {
   "cell_type": "code",
   "execution_count": 41,
   "metadata": {},
   "outputs": [
    {
     "name": "stderr",
     "output_type": "stream",
     "text": [
      "100%|██████████| 430336/430336 [00:26<00:00, 16421.15it/s]\n",
      "100%|██████████| 65536/65536 [00:01<00:00, 57102.49it/s]\n",
      "100%|██████████| 430336/430336 [00:25<00:00, 16862.81it/s]\n",
      "100%|██████████| 65536/65536 [00:01<00:00, 64048.41it/s]\n"
     ]
    }
   ],
   "source": [
    "def main():\n",
    "    images = [\"im1.png\"]\n",
    "\n",
    "    for image in images:\n",
    "        output_path = \"output/\" + image\n",
    "        if not os.path.exists(output_path):\n",
    "            os.makedirs(output_path)\n",
    "\n",
    "        mono_img = pim.open(\"input/\" + image).convert('L')\n",
    "        mono_img.save(output_path + \"/\" + \"mono.png\", \"PNG\")\n",
    "\n",
    "        create_haralic_matrix_and_stats(output_path + \"/\" + \"mono\", mono_img)\n",
    "\n",
    "        log_img = transform(mono_img)\n",
    "        log_img.save(output_path + \"/\" + \"log.png\", \"PNG\")\n",
    "        create_haralic_matrix_and_stats(output_path + \"/\" + \"log\", log_img)\n",
    "\n",
    "if __name__ == \"__main__\":\n",
    "    main()\n"
   ]
  },
  {
   "cell_type": "code",
   "execution_count": null,
   "metadata": {},
   "outputs": [],
   "source": []
  }
 ],
 "metadata": {
  "kernelspec": {
   "display_name": "base",
   "language": "python",
   "name": "python3"
  },
  "language_info": {
   "codemirror_mode": {
    "name": "ipython",
    "version": 3
   },
   "file_extension": ".py",
   "mimetype": "text/x-python",
   "name": "python",
   "nbconvert_exporter": "python",
   "pygments_lexer": "ipython3",
   "version": "3.11.5"
  }
 },
 "nbformat": 4,
 "nbformat_minor": 2
}
