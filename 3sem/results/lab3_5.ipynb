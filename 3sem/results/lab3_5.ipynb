{
 "cells": [
  {
   "cell_type": "code",
   "execution_count": 2,
   "metadata": {},
   "outputs": [],
   "source": [
    "import numpy as np\n",
    "from PIL import Image as pim"
   ]
  },
  {
   "cell_type": "markdown",
   "metadata": {},
   "source": [
    "## 3.5 Logical Filter"
   ]
  },
  {
   "cell_type": "code",
   "execution_count": 22,
   "metadata": {},
   "outputs": [],
   "source": [
    "BLACK = 0\n",
    "WHITE = 255\n",
    "OMEGA_OF_WHITE = 8 * WHITE\n",
    "\n",
    "def logical_filtering(input_array):\n",
    "    H,W = input_array.shape[:2]\n",
    "\n",
    "    filtered_array = np.zeros((H, W), dtype=input_array.dtype)\n",
    "    \n",
    "    filtered_array[0] = input_array[0]\n",
    "    filtered_array[~0] = input_array[~0]\n",
    "    for row in range(H):\n",
    "        filtered_array[row, 0] = input_array[row, 0]\n",
    "        filtered_array[row, -1] = input_array[row, -1]\n",
    "\n",
    "    for row in range(1, H - 1):\n",
    "        for col in range(1, W - 1):\n",
    "            big_omega = sum([input_array[row + i, col + j] for i in range(-1, 2, 2) for j in range(-1, 2, 2)])\n",
    "            if big_omega == BLACK and input_array[row, col] == WHITE:\n",
    "                filtered_array[row, col] = BLACK\n",
    "            elif big_omega == OMEGA_OF_WHITE and input_array[row, col] == BLACK:\n",
    "                filtered_array[row, col] = WHITE\n",
    "            else:\n",
    "                filtered_array[row, col] = input_array[row, col]\n",
    "\n",
    "    return filtered_array"
   ]
  },
  {
   "cell_type": "code",
   "execution_count": 25,
   "metadata": {},
   "outputs": [],
   "source": [
    "\n",
    "def main():\n",
    "    images = [\"im1.png\", \"im2.png\", \"im3.png\"]\n",
    "\n",
    "    for image in images:\n",
    "        input_image = pim.open('input/' + image)\n",
    "        input_array = np.array(input_image, np.uint8)\n",
    "\n",
    "        filtered_array = logical_filtering(input_array)\n",
    "        pim.fromarray(filtered_array).save(f\"output/{image}\")    \n",
    "\n",
    "        XOR_array = input_array ^ filtered_array\n",
    "        pim.fromarray(XOR_array).save(f\"output/XOR_{image}\")\n",
    "\n",
    "if __name__ == \"__main__\":\n",
    "    main()"
   ]
  },
  {
   "cell_type": "code",
   "execution_count": null,
   "metadata": {},
   "outputs": [],
   "source": []
  }
 ],
 "metadata": {
  "kernelspec": {
   "display_name": "base",
   "language": "python",
   "name": "python3"
  },
  "language_info": {
   "codemirror_mode": {
    "name": "ipython",
    "version": 3
   },
   "file_extension": ".py",
   "mimetype": "text/x-python",
   "name": "python",
   "nbconvert_exporter": "python",
   "pygments_lexer": "ipython3",
   "version": "3.11.5"
  }
 },
 "nbformat": 4,
 "nbformat_minor": 2
}
