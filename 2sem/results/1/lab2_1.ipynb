{
 "cells": [
  {
   "cell_type": "code",
   "execution_count": 5,
   "metadata": {},
   "outputs": [],
   "source": [
    "import numpy as np\n",
    "from PIL import Image as pim\n",
    "import os"
   ]
  },
  {
   "cell_type": "markdown",
   "metadata": {},
   "source": [
    "## 1. Grayscale \n",
    "### using halftone with 1 brightness channel"
   ]
  },
  {
   "cell_type": "code",
   "execution_count": 9,
   "metadata": {},
   "outputs": [],
   "source": [
    "def main():\n",
    "    dir_path = r'C:/Mephi/6th Semester/AudioVisual/Labs/Lab2/1/input'\n",
    "    total = len([entry for entry in os.listdir(dir_path) if os.path.isfile(os.path.join(dir_path, entry))])\n",
    "    count = 1\n",
    "\n",
    "    while count <= total:\n",
    "        input_image = pim.open('input/im' + str(count) + '.png').convert('RGB')\n",
    "        input_array = np.array(input_image)\n",
    "\n",
    "        H,W = input_array.shape[:2]\n",
    "        gray_array = np.zeros((H,W), dtype=input_array.dtype)\n",
    "        for i in range(H):\n",
    "            for j in range(W):\n",
    "                gray_array[i,j] = np.clip(0.07 * input_array[i,j,0]  + 0.72 * input_array[i,j,1] + 0.21 * input_array[i,j,2], 0, 255)\n",
    "\n",
    "        output_image = pim.fromarray(gray_array)\n",
    "\n",
    "        output_image.save('output/im' + str(count) + '_gray.png')\n",
    "        output_image.show()\n",
    "        count += 1\n",
    "\n",
    "if __name__ == \"__main__\":\n",
    "    main()"
   ]
  }
 ],
 "metadata": {
  "kernelspec": {
   "display_name": "base",
   "language": "python",
   "name": "python3"
  },
  "language_info": {
   "codemirror_mode": {
    "name": "ipython",
    "version": 3
   },
   "file_extension": ".py",
   "mimetype": "text/x-python",
   "name": "python",
   "nbconvert_exporter": "python",
   "pygments_lexer": "ipython3",
   "version": "3.11.5"
  }
 },
 "nbformat": 4,
 "nbformat_minor": 2
}
