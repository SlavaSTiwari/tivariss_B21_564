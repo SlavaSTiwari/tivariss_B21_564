{
 "cells": [
  {
   "cell_type": "code",
   "execution_count": 1,
   "metadata": {},
   "outputs": [],
   "source": [
    "import numpy as np\n",
    "from PIL import Image as pim"
   ]
  },
  {
   "cell_type": "markdown",
   "metadata": {},
   "source": [
    "## Bernsons Binarization"
   ]
  },
  {
   "cell_type": "code",
   "execution_count": 10,
   "metadata": {},
   "outputs": [],
   "source": [
    "def bernsen_binarization(image, radius, percentage, contrast_limit):\n",
    "    input_array = np.array(image)\n",
    "    H,W = input_array.shape[:2]\n",
    "    binary_array = np.zeros((H, W), dtype=input_array.dtype)\n",
    "\n",
    "    for y in range(H):\n",
    "        for x in range(W):\n",
    "            min_brightness = 255\n",
    "            max_brightness = 0\n",
    "\n",
    "            for j in range(max(0, y - radius), min(H, y + radius + 1)):\n",
    "                for i in range(max(0, x - radius), min(W, x + radius + 1)):\n",
    "                    min_brightness = min(min_brightness, input_array[j, i])\n",
    "                    max_brightness = max(max_brightness, input_array[j, i])\n",
    "\n",
    "            average = np.mean([max_brightness, min_brightness])\n",
    "            contrast = max_brightness - min_brightness\n",
    "\n",
    "            if contrast < contrast_limit:\n",
    "                binary_array[y, x] = 255\n",
    "\n",
    "            else:\n",
    "                if input_array[y, x] >= average * (1 - percentage):\n",
    "                    binary_array[y, x] = 255\n",
    "\n",
    "                else:\n",
    "                    binary_array[y, x] = 0\n",
    "\n",
    "    output_image = pim.fromarray(binary_array)\n",
    "    output_image.save('output/img_binary.png')\n",
    "    output_image.show()"
   ]
  },
  {
   "cell_type": "markdown",
   "metadata": {},
   "source": [
    "## Result"
   ]
  },
  {
   "cell_type": "code",
   "execution_count": 13,
   "metadata": {},
   "outputs": [],
   "source": [
    "def main():\n",
    "    input_image = pim.open('input/im3_gray.png')\n",
    "    r = 5\n",
    "    t = 0.01\n",
    "    contrast_limit = 15\n",
    "\n",
    "    bernsen_binarization(input_image, r, t, contrast_limit)\n",
    "\n",
    "if __name__ == \"__main__\":\n",
    "    main()"
   ]
  },
  {
   "cell_type": "code",
   "execution_count": null,
   "metadata": {},
   "outputs": [],
   "source": []
  }
 ],
 "metadata": {
  "kernelspec": {
   "display_name": "base",
   "language": "python",
   "name": "python3"
  },
  "language_info": {
   "codemirror_mode": {
    "name": "ipython",
    "version": 3
   },
   "file_extension": ".py",
   "mimetype": "text/x-python",
   "name": "python",
   "nbconvert_exporter": "python",
   "pygments_lexer": "ipython3",
   "version": "3.11.5"
  }
 },
 "nbformat": 4,
 "nbformat_minor": 2
}
