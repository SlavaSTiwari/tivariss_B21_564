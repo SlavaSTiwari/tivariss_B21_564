{
 "cells": [
  {
   "cell_type": "markdown",
   "metadata": {},
   "source": [
    "# Lab 5: Выделение признаков символов\n",
    "### Казахские заглавные буквы\n",
    "\n",
    "\"а ә б в г ғ д е ё ж з и й к қ л м н ң о ө п р с т у ұ ү ф х һ ц ч ш щ ъ ы і ь э ю я\""
   ]
  },
  {
   "cell_type": "code",
   "execution_count": 54,
   "metadata": {},
   "outputs": [],
   "source": [
    "from PIL import Image as pim, ImageDraw, ImageFont\n",
    "import os\n",
    "import matplotlib.pyplot as plt\n",
    "import csv"
   ]
  },
  {
   "cell_type": "code",
   "execution_count": 1,
   "metadata": {},
   "outputs": [],
   "source": [
    "def symbol_to_image(symbol, font_name, font_size, output_dir):\n",
    "    ttfont = ImageFont.truetype(font_name, font_size, encoding=\"unic\")\n",
    "    mask = ttfont.getmask(symbol)\n",
    "    text_width, text_height = mask.size\n",
    "\n",
    "    bottom_padding = 10\n",
    "    text_height +=  5 * bottom_padding\n",
    "    \n",
    "    image = pim.new(\"L\", (text_width, text_height), color=\"white\")\n",
    "    draw = ImageDraw.Draw(image)\n",
    "    draw.text((0, 0), symbol, fill=\"black\", font=ttfont)\n",
    "    \n",
    "    output_path = output_dir + \"/symbols/\" + symbol + \".png\"\n",
    "    image.save(output_path)"
   ]
  },
  {
   "cell_type": "code",
   "execution_count": 67,
   "metadata": {},
   "outputs": [],
   "source": [
    "def get_black_mass(input_image):\n",
    "    pixels = list(input_image.getdata())\n",
    "    total_pixels = len(pixels)\n",
    "    \n",
    "    black_pixels = sum(1 for pixel in pixels if pixel == 0)\n",
    "    black_mass = black_pixels / total_pixels\n",
    "\n",
    "    return black_mass"
   ]
  },
  {
   "cell_type": "code",
   "execution_count": 68,
   "metadata": {},
   "outputs": [],
   "source": [
    "def get_normalized_center(center_x, center_y, image_width, image_height):\n",
    "    normalized_center_x = center_x / image_width\n",
    "    normalized_center_y = center_y / image_height\n",
    "    \n",
    "    return normalized_center_x, normalized_center_y"
   ]
  },
  {
   "cell_type": "code",
   "execution_count": 69,
   "metadata": {},
   "outputs": [],
   "source": [
    "def get_moments_of_inertia(input_image, center_x, center_y):\n",
    "    W, H = input_image.size\n",
    "    pixels = list(input_image.getdata())\n",
    "    \n",
    "    horizontal_moment = 0\n",
    "    vertical_moment = 0\n",
    "    \n",
    "    for y in range(H):\n",
    "        for x in range(W):\n",
    "            pixel = pixels[y * W + x]\n",
    "            if pixel == 0: \n",
    "                horizontal_moment += (y - center_y) ** 2\n",
    "                vertical_moment += (x - center_x) ** 2\n",
    "    \n",
    "    return horizontal_moment, vertical_moment"
   ]
  },
  {
   "cell_type": "code",
   "execution_count": 70,
   "metadata": {},
   "outputs": [],
   "source": [
    "def get_normalized_moments(horizontal_moment, vertical_moment, image_area):\n",
    "    normalized_horizontal_moment = horizontal_moment / image_area\n",
    "    normalized_vertical_moment = vertical_moment / image_area\n",
    "    \n",
    "    return normalized_horizontal_moment, normalized_vertical_moment"
   ]
  },
  {
   "cell_type": "code",
   "execution_count": 71,
   "metadata": {},
   "outputs": [],
   "source": [
    "def get_profiles(input_image):\n",
    "    W, H = input_image.size\n",
    "    pixels = list(input_image.getdata())\n",
    "    x_profile = [0] * W\n",
    "    y_profile = [0] * H\n",
    "    \n",
    "    for y in range(H):\n",
    "        for x in range(W):\n",
    "            pixel = pixels[y * W + x]\n",
    "            if pixel == 0:\n",
    "                x_profile[x] += 1\n",
    "                y_profile[y] += 1\n",
    "    \n",
    "    return x_profile, y_profile"
   ]
  },
  {
   "cell_type": "code",
   "execution_count": 72,
   "metadata": {},
   "outputs": [],
   "source": [
    "def get_center_of_mass(input_image):\n",
    "    W, H = input_image.size\n",
    "    pixels = list(input_image.getdata())\n",
    "    \n",
    "    total_pixels = len(pixels)\n",
    "    total_x = 0\n",
    "    total_y = 0\n",
    "\n",
    "    for y in range(H):\n",
    "        for x in range(W):\n",
    "            pixel = pixels[y * W + x]\n",
    "            if pixel == 0:\n",
    "                total_x += x\n",
    "                total_y += y\n",
    "    \n",
    "    center_x = total_x / total_pixels\n",
    "    center_y = total_y / total_pixels\n",
    "    \n",
    "    return center_x, center_y"
   ]
  },
  {
   "cell_type": "code",
   "execution_count": 73,
   "metadata": {},
   "outputs": [],
   "source": [
    "def image_profiles_to_graph(x_profile, y_profile, symbol):\n",
    "    fig, (ax1, ax2) = plt.subplots(1, 2, figsize=(12, 6))\n",
    "\n",
    "    ax1.bar(range(len(x_profile)), x_profile, color='blue')\n",
    "    ax1.set_title('Horizontal Profile')\n",
    "    ax1.set_xlabel('Columns')\n",
    "    ax1.set_ylabel('Number of black pixels')\n",
    "\n",
    "    ax2.bar(range(len(y_profile)), y_profile, color='green')\n",
    "    ax2.set_title('Vertical Profile')\n",
    "    ax2.set_xlabel('Rows')\n",
    "    ax2.set_ylabel('Number of black pixels')\n",
    "\n",
    "    ax1.xaxis.set_major_locator(plt.MaxNLocator(integer=True))\n",
    "    ax2.xaxis.set_major_locator(plt.MaxNLocator(integer=True))\n",
    "    \n",
    "    fig.tight_layout()\n",
    "\n",
    "    plt.savefig(\"output/profiles/\" + symbol + \"_profile\")\n",
    "    plt.close(fig)\n"
   ]
  },
  {
   "cell_type": "code",
   "execution_count": 79,
   "metadata": {},
   "outputs": [],
   "source": [
    "def main():\n",
    "        font_name = \"Times New Roman.ttf\"\n",
    "        font_size = 52\n",
    "\n",
    "        fields = ['symbol', 'weight', 'center_of_mass', 'moment_of_inertia', 'normalized_moment_of_inertia']\n",
    "\n",
    "        with open('output/result.csv', mode='a', newline='', encoding=\"utf-8\") as file:\n",
    "                writer = csv.writer(file, delimiter=';')\n",
    "                writer.writerow(fields)\n",
    "\n",
    "        output_dir = \"output\"\n",
    "        if not os.path.exists(output_dir):\n",
    "                os.makedirs(output_dir)\n",
    "\n",
    "        symbols = \"аәбвгғдеёжзийкқлмнңоөпрстуұүфхһцчшщъыіьэюя\"\n",
    "\n",
    "        # ITERATE OVER EVERY SYMBOL\n",
    "        for symbol in symbols:\n",
    "        # CONVERT SYMBOL TO PNG IMAGE\n",
    "        symbol_to_image(symbol, font_name, font_size, output_dir)\n",
    "        \n",
    "        image = pim.open(output_dir + \"/symbols/\" + symbol + \".png\")\n",
    "        \n",
    "        black_mass = get_black_mass(image)\n",
    "        \n",
    "        center_x, center_y = get_center_of_mass(image)\n",
    "        \n",
    "        image_width, image_height = image.size\n",
    "        normalized_center_x, normalized_center_y = get_normalized_center(center_x, center_y, image_width, image_height)\n",
    "        \n",
    "        horizontal_moment, vertical_moment = get_moments_of_inertia(image, center_x, center_y)\n",
    "        \n",
    "        image_area = image_width * image_height\n",
    "        normalized_horizontal_moment, normalized_vertical_moment = get_normalized_moments(horizontal_moment, vertical_moment, image_area)\n",
    "\n",
    "        # STORE SYMBOL DATA\n",
    "        data = [\n",
    "                str(black_mass),                                    # Wieght\n",
    "                str((center_x, center_y)),    # Center of Mass\n",
    "                str((horizontal_moment, vertical_moment)),          # Moment of Inertia\n",
    "                str((normalized_horizontal_moment,\n",
    "                        normalized_vertical_moment))                   # Norm. Moment of Inertia\n",
    "                ]\n",
    "        \n",
    "        # CONVERT DATA TO CSV\n",
    "        with open('output/result.csv', mode='a', newline='', encoding=\"utf-8\") as file:\n",
    "                writer = csv.writer(file, delimiter=';')\n",
    "                writer.writerow([symbol.split('.')[0], *data])\n",
    "\n",
    "        #CONVERT PROFILE TO GRAPH\n",
    "        x_profile, y_profile = get_profiles(image)\n",
    "        image_profiles_to_graph(x_profile, y_profile, symbol)\n",
    "\n",
    "if __name__ == \"__main__\":\n",
    "    main()"
   ]
  },
  {
   "cell_type": "code",
   "execution_count": null,
   "metadata": {},
   "outputs": [],
   "source": []
  }
 ],
 "metadata": {
  "kernelspec": {
   "display_name": "base",
   "language": "python",
   "name": "python3"
  },
  "language_info": {
   "codemirror_mode": {
    "name": "ipython",
    "version": 3
   },
   "file_extension": ".py",
   "mimetype": "text/x-python",
   "name": "python",
   "nbconvert_exporter": "python",
   "pygments_lexer": "ipython3",
   "version": "3.11.5"
  }
 },
 "nbformat": 4,
 "nbformat_minor": 2
}
